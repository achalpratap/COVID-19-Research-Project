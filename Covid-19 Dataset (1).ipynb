{
 "cells": [
  {
   "cell_type": "code",
   "execution_count": 1,
   "id": "f61054b9",
   "metadata": {},
   "outputs": [],
   "source": [
    "import numpy as np\n",
    "import pandas as pd"
   ]
  },
  {
   "cell_type": "markdown",
   "id": "4e5b2f6b",
   "metadata": {},
   "source": [
    "### Importing Datasets"
   ]
  },
  {
   "cell_type": "code",
   "execution_count": 2,
   "id": "67dea5a4",
   "metadata": {},
   "outputs": [],
   "source": [
    "summary_data = pd.read_csv('worldometer_coronavirus_summary_data .csv')\n",
    "daily_data = pd.read_csv('worldometer_coronavirus_daily_data.csv')"
   ]
  },
  {
   "cell_type": "code",
   "execution_count": 3,
   "id": "4bb6b5d8",
   "metadata": {
    "scrolled": true
   },
   "outputs": [
    {
     "data": {
      "text/html": [
       "<div>\n",
       "<style scoped>\n",
       "    .dataframe tbody tr th:only-of-type {\n",
       "        vertical-align: middle;\n",
       "    }\n",
       "\n",
       "    .dataframe tbody tr th {\n",
       "        vertical-align: top;\n",
       "    }\n",
       "\n",
       "    .dataframe thead th {\n",
       "        text-align: right;\n",
       "    }\n",
       "</style>\n",
       "<table border=\"1\" class=\"dataframe\">\n",
       "  <thead>\n",
       "    <tr style=\"text-align: right;\">\n",
       "      <th></th>\n",
       "      <th>country</th>\n",
       "      <th>continent</th>\n",
       "      <th>total_confirmed</th>\n",
       "      <th>total_deaths</th>\n",
       "      <th>total_recovered</th>\n",
       "      <th>active_cases</th>\n",
       "      <th>serious_or_critical</th>\n",
       "      <th>total_cases_per_1m_population</th>\n",
       "      <th>total_deaths_per_1m_population</th>\n",
       "      <th>total_tests</th>\n",
       "      <th>total_tests_per_1m_population</th>\n",
       "      <th>population</th>\n",
       "    </tr>\n",
       "  </thead>\n",
       "  <tbody>\n",
       "    <tr>\n",
       "      <th>0</th>\n",
       "      <td>Afghanistan</td>\n",
       "      <td>Asia</td>\n",
       "      <td>179267</td>\n",
       "      <td>7690.0</td>\n",
       "      <td>162202.0</td>\n",
       "      <td>9375.0</td>\n",
       "      <td>1124.0</td>\n",
       "      <td>4420</td>\n",
       "      <td>190.0</td>\n",
       "      <td>951337.0</td>\n",
       "      <td>23455.0</td>\n",
       "      <td>40560636</td>\n",
       "    </tr>\n",
       "    <tr>\n",
       "      <th>1</th>\n",
       "      <td>Albania</td>\n",
       "      <td>Europe</td>\n",
       "      <td>275574</td>\n",
       "      <td>3497.0</td>\n",
       "      <td>271826.0</td>\n",
       "      <td>251.0</td>\n",
       "      <td>2.0</td>\n",
       "      <td>95954</td>\n",
       "      <td>1218.0</td>\n",
       "      <td>1817530.0</td>\n",
       "      <td>632857.0</td>\n",
       "      <td>2871945</td>\n",
       "    </tr>\n",
       "    <tr>\n",
       "      <th>2</th>\n",
       "      <td>Algeria</td>\n",
       "      <td>Africa</td>\n",
       "      <td>265816</td>\n",
       "      <td>6875.0</td>\n",
       "      <td>178371.0</td>\n",
       "      <td>80570.0</td>\n",
       "      <td>6.0</td>\n",
       "      <td>5865</td>\n",
       "      <td>152.0</td>\n",
       "      <td>230861.0</td>\n",
       "      <td>5093.0</td>\n",
       "      <td>45325517</td>\n",
       "    </tr>\n",
       "    <tr>\n",
       "      <th>3</th>\n",
       "      <td>Andorra</td>\n",
       "      <td>Europe</td>\n",
       "      <td>42156</td>\n",
       "      <td>153.0</td>\n",
       "      <td>41021.0</td>\n",
       "      <td>982.0</td>\n",
       "      <td>14.0</td>\n",
       "      <td>543983</td>\n",
       "      <td>1974.0</td>\n",
       "      <td>249838.0</td>\n",
       "      <td>3223924.0</td>\n",
       "      <td>77495</td>\n",
       "    </tr>\n",
       "    <tr>\n",
       "      <th>4</th>\n",
       "      <td>Angola</td>\n",
       "      <td>Africa</td>\n",
       "      <td>99194</td>\n",
       "      <td>1900.0</td>\n",
       "      <td>97149.0</td>\n",
       "      <td>145.0</td>\n",
       "      <td>NaN</td>\n",
       "      <td>2853</td>\n",
       "      <td>55.0</td>\n",
       "      <td>1499795.0</td>\n",
       "      <td>43136.0</td>\n",
       "      <td>34769277</td>\n",
       "    </tr>\n",
       "  </tbody>\n",
       "</table>\n",
       "</div>"
      ],
      "text/plain": [
       "       country continent  total_confirmed  total_deaths  total_recovered  \\\n",
       "0  Afghanistan      Asia           179267        7690.0         162202.0   \n",
       "1      Albania    Europe           275574        3497.0         271826.0   \n",
       "2      Algeria    Africa           265816        6875.0         178371.0   \n",
       "3      Andorra    Europe            42156         153.0          41021.0   \n",
       "4       Angola    Africa            99194        1900.0          97149.0   \n",
       "\n",
       "   active_cases  serious_or_critical  total_cases_per_1m_population  \\\n",
       "0        9375.0               1124.0                           4420   \n",
       "1         251.0                  2.0                          95954   \n",
       "2       80570.0                  6.0                           5865   \n",
       "3         982.0                 14.0                         543983   \n",
       "4         145.0                  NaN                           2853   \n",
       "\n",
       "   total_deaths_per_1m_population  total_tests  total_tests_per_1m_population  \\\n",
       "0                           190.0     951337.0                        23455.0   \n",
       "1                          1218.0    1817530.0                       632857.0   \n",
       "2                           152.0     230861.0                         5093.0   \n",
       "3                          1974.0     249838.0                      3223924.0   \n",
       "4                            55.0    1499795.0                        43136.0   \n",
       "\n",
       "   population  \n",
       "0    40560636  \n",
       "1     2871945  \n",
       "2    45325517  \n",
       "3       77495  \n",
       "4    34769277  "
      ]
     },
     "execution_count": 3,
     "metadata": {},
     "output_type": "execute_result"
    }
   ],
   "source": [
    "summary_data.head(5)"
   ]
  },
  {
   "cell_type": "code",
   "execution_count": 4,
   "id": "1fc1adfd",
   "metadata": {
    "scrolled": false
   },
   "outputs": [
    {
     "data": {
      "text/html": [
       "<div>\n",
       "<style scoped>\n",
       "    .dataframe tbody tr th:only-of-type {\n",
       "        vertical-align: middle;\n",
       "    }\n",
       "\n",
       "    .dataframe tbody tr th {\n",
       "        vertical-align: top;\n",
       "    }\n",
       "\n",
       "    .dataframe thead th {\n",
       "        text-align: right;\n",
       "    }\n",
       "</style>\n",
       "<table border=\"1\" class=\"dataframe\">\n",
       "  <thead>\n",
       "    <tr style=\"text-align: right;\">\n",
       "      <th></th>\n",
       "      <th>date</th>\n",
       "      <th>country</th>\n",
       "      <th>cumulative_total_cases</th>\n",
       "      <th>daily_new_cases</th>\n",
       "      <th>active_cases</th>\n",
       "      <th>cumulative_total_deaths</th>\n",
       "      <th>daily_new_deaths</th>\n",
       "    </tr>\n",
       "  </thead>\n",
       "  <tbody>\n",
       "    <tr>\n",
       "      <th>0</th>\n",
       "      <td>2020-2-15</td>\n",
       "      <td>Afghanistan</td>\n",
       "      <td>0.0</td>\n",
       "      <td>NaN</td>\n",
       "      <td>0.0</td>\n",
       "      <td>0.0</td>\n",
       "      <td>NaN</td>\n",
       "    </tr>\n",
       "    <tr>\n",
       "      <th>1</th>\n",
       "      <td>2020-2-16</td>\n",
       "      <td>Afghanistan</td>\n",
       "      <td>0.0</td>\n",
       "      <td>NaN</td>\n",
       "      <td>0.0</td>\n",
       "      <td>0.0</td>\n",
       "      <td>NaN</td>\n",
       "    </tr>\n",
       "    <tr>\n",
       "      <th>2</th>\n",
       "      <td>2020-2-17</td>\n",
       "      <td>Afghanistan</td>\n",
       "      <td>0.0</td>\n",
       "      <td>NaN</td>\n",
       "      <td>0.0</td>\n",
       "      <td>0.0</td>\n",
       "      <td>NaN</td>\n",
       "    </tr>\n",
       "    <tr>\n",
       "      <th>3</th>\n",
       "      <td>2020-2-18</td>\n",
       "      <td>Afghanistan</td>\n",
       "      <td>0.0</td>\n",
       "      <td>NaN</td>\n",
       "      <td>0.0</td>\n",
       "      <td>0.0</td>\n",
       "      <td>NaN</td>\n",
       "    </tr>\n",
       "    <tr>\n",
       "      <th>4</th>\n",
       "      <td>2020-2-19</td>\n",
       "      <td>Afghanistan</td>\n",
       "      <td>0.0</td>\n",
       "      <td>NaN</td>\n",
       "      <td>0.0</td>\n",
       "      <td>0.0</td>\n",
       "      <td>NaN</td>\n",
       "    </tr>\n",
       "  </tbody>\n",
       "</table>\n",
       "</div>"
      ],
      "text/plain": [
       "        date      country  cumulative_total_cases  daily_new_cases  \\\n",
       "0  2020-2-15  Afghanistan                     0.0              NaN   \n",
       "1  2020-2-16  Afghanistan                     0.0              NaN   \n",
       "2  2020-2-17  Afghanistan                     0.0              NaN   \n",
       "3  2020-2-18  Afghanistan                     0.0              NaN   \n",
       "4  2020-2-19  Afghanistan                     0.0              NaN   \n",
       "\n",
       "   active_cases  cumulative_total_deaths  daily_new_deaths  \n",
       "0           0.0                      0.0               NaN  \n",
       "1           0.0                      0.0               NaN  \n",
       "2           0.0                      0.0               NaN  \n",
       "3           0.0                      0.0               NaN  \n",
       "4           0.0                      0.0               NaN  "
      ]
     },
     "execution_count": 4,
     "metadata": {},
     "output_type": "execute_result"
    }
   ],
   "source": [
    "daily_data.head(5)"
   ]
  },
  {
   "cell_type": "markdown",
   "id": "3160a2d2",
   "metadata": {},
   "source": [
    "## Cleaning summary_data"
   ]
  },
  {
   "cell_type": "markdown",
   "id": "4286f45f",
   "metadata": {},
   "source": [
    "### Checking and droping unwanted columns "
   ]
  },
  {
   "cell_type": "code",
   "execution_count": 5,
   "id": "cda1b1ec",
   "metadata": {},
   "outputs": [
    {
     "data": {
      "text/plain": [
       "Index(['country', 'continent', 'total_confirmed', 'total_deaths',\n",
       "       'total_recovered', 'active_cases', 'serious_or_critical',\n",
       "       'total_cases_per_1m_population', 'total_deaths_per_1m_population',\n",
       "       'total_tests', 'total_tests_per_1m_population', 'population'],\n",
       "      dtype='object')"
      ]
     },
     "execution_count": 5,
     "metadata": {},
     "output_type": "execute_result"
    }
   ],
   "source": [
    "summary_data.columns"
   ]
  },
  {
   "cell_type": "code",
   "execution_count": 6,
   "id": "38b2d44b",
   "metadata": {},
   "outputs": [],
   "source": [
    "summary_data.drop(['serious_or_critical','total_cases_per_1m_population','total_deaths_per_1m_population','total_tests','total_tests_per_1m_population'],axis = 1, inplace = True)"
   ]
  },
  {
   "cell_type": "code",
   "execution_count": 7,
   "id": "00c87be4",
   "metadata": {
    "scrolled": true
   },
   "outputs": [
    {
     "data": {
      "text/html": [
       "<div>\n",
       "<style scoped>\n",
       "    .dataframe tbody tr th:only-of-type {\n",
       "        vertical-align: middle;\n",
       "    }\n",
       "\n",
       "    .dataframe tbody tr th {\n",
       "        vertical-align: top;\n",
       "    }\n",
       "\n",
       "    .dataframe thead th {\n",
       "        text-align: right;\n",
       "    }\n",
       "</style>\n",
       "<table border=\"1\" class=\"dataframe\">\n",
       "  <thead>\n",
       "    <tr style=\"text-align: right;\">\n",
       "      <th></th>\n",
       "      <th>country</th>\n",
       "      <th>continent</th>\n",
       "      <th>total_confirmed</th>\n",
       "      <th>total_deaths</th>\n",
       "      <th>total_recovered</th>\n",
       "      <th>active_cases</th>\n",
       "      <th>population</th>\n",
       "    </tr>\n",
       "  </thead>\n",
       "  <tbody>\n",
       "    <tr>\n",
       "      <th>0</th>\n",
       "      <td>Afghanistan</td>\n",
       "      <td>Asia</td>\n",
       "      <td>179267</td>\n",
       "      <td>7690.0</td>\n",
       "      <td>162202.0</td>\n",
       "      <td>9375.0</td>\n",
       "      <td>40560636</td>\n",
       "    </tr>\n",
       "    <tr>\n",
       "      <th>1</th>\n",
       "      <td>Albania</td>\n",
       "      <td>Europe</td>\n",
       "      <td>275574</td>\n",
       "      <td>3497.0</td>\n",
       "      <td>271826.0</td>\n",
       "      <td>251.0</td>\n",
       "      <td>2871945</td>\n",
       "    </tr>\n",
       "    <tr>\n",
       "      <th>2</th>\n",
       "      <td>Algeria</td>\n",
       "      <td>Africa</td>\n",
       "      <td>265816</td>\n",
       "      <td>6875.0</td>\n",
       "      <td>178371.0</td>\n",
       "      <td>80570.0</td>\n",
       "      <td>45325517</td>\n",
       "    </tr>\n",
       "  </tbody>\n",
       "</table>\n",
       "</div>"
      ],
      "text/plain": [
       "       country continent  total_confirmed  total_deaths  total_recovered  \\\n",
       "0  Afghanistan      Asia           179267        7690.0         162202.0   \n",
       "1      Albania    Europe           275574        3497.0         271826.0   \n",
       "2      Algeria    Africa           265816        6875.0         178371.0   \n",
       "\n",
       "   active_cases  population  \n",
       "0        9375.0    40560636  \n",
       "1         251.0     2871945  \n",
       "2       80570.0    45325517  "
      ]
     },
     "execution_count": 7,
     "metadata": {},
     "output_type": "execute_result"
    }
   ],
   "source": [
    "summary_data.head(3)"
   ]
  },
  {
   "cell_type": "markdown",
   "id": "51ed883b",
   "metadata": {},
   "source": [
    "### Handling Null Values"
   ]
  },
  {
   "cell_type": "code",
   "execution_count": 8,
   "id": "45d98960",
   "metadata": {},
   "outputs": [
    {
     "data": {
      "text/plain": [
       "country             0\n",
       "continent           0\n",
       "total_confirmed     0\n",
       "total_deaths        8\n",
       "total_recovered    22\n",
       "active_cases       22\n",
       "population          0\n",
       "dtype: int64"
      ]
     },
     "execution_count": 8,
     "metadata": {},
     "output_type": "execute_result"
    }
   ],
   "source": [
    "summary_data.isnull().sum()"
   ]
  },
  {
   "cell_type": "code",
   "execution_count": 9,
   "id": "5d2c76a8",
   "metadata": {},
   "outputs": [
    {
     "data": {
      "text/plain": [
       "(226, 7)"
      ]
     },
     "execution_count": 9,
     "metadata": {},
     "output_type": "execute_result"
    }
   ],
   "source": [
    "summary_data.shape"
   ]
  },
  {
   "cell_type": "code",
   "execution_count": 10,
   "id": "a8e26408",
   "metadata": {},
   "outputs": [],
   "source": [
    "summary_data.dropna(inplace = True)"
   ]
  },
  {
   "cell_type": "markdown",
   "id": "b462a3d2",
   "metadata": {},
   "source": [
    "### Unique values of columns "
   ]
  },
  {
   "cell_type": "code",
   "execution_count": 11,
   "id": "e56794ee",
   "metadata": {},
   "outputs": [
    {
     "name": "stdout",
     "output_type": "stream",
     "text": [
      "country\n",
      "['Afghanistan' 'Albania' 'Algeria' 'Andorra' 'Angola' 'Anguilla'\n",
      " 'Antigua And Barbuda' 'Argentina' 'Armenia' 'Aruba' 'Australia' 'Austria'\n",
      " 'Azerbaijan' 'Bahamas' 'Bahrain' 'Bangladesh' 'Barbados' 'Belgium'\n",
      " 'Belize' 'Benin' 'Bermuda' 'Bhutan' 'Bolivia' 'Botswana' 'Brazil'\n",
      " 'Brunei Darussalam' 'Bulgaria' 'Burkina Faso' 'Cabo Verde' 'Cambodia'\n",
      " 'Cameroon' 'Canada' 'Caribbean Netherlands' 'Cayman Islands'\n",
      " 'Central African Republic' 'Chad' 'Channel Islands' 'Chile' 'China'\n",
      " 'Colombia' 'Comoros' 'Congo' 'Cook Islands' 'Costa Rica' 'Cote D Ivoire'\n",
      " 'Croatia' 'Cuba' 'Curacao' 'Cyprus' 'Czech Republic'\n",
      " 'Democratic Republic Of The Congo' 'Denmark' 'Djibouti' 'Dominica'\n",
      " 'Dominican Republic' 'Egypt' 'El Salvador' 'Equatorial Guinea' 'Eritrea'\n",
      " 'Estonia' 'Ethiopia' 'Faeroe Islands' 'Fiji' 'France' 'French Guiana'\n",
      " 'Gabon' 'Gambia' 'Georgia' 'Germany' 'Ghana' 'Gibraltar' 'Greece'\n",
      " 'Greenland' 'Grenada' 'Guadeloupe' 'Guatemala' 'Guinea Bissau' 'Guinea'\n",
      " 'Guyana' 'Haiti' 'Honduras' 'Hungary' 'India' 'Indonesia' 'Iran' 'Iraq'\n",
      " 'Ireland' 'Isle Of Man' 'Israel' 'Italy' 'Jamaica' 'Japan' 'Jordan'\n",
      " 'Kazakhstan' 'Kenya' 'Kiribati' 'Kuwait' 'Kyrgyzstan' 'Latvia' 'Lebanon'\n",
      " 'Lesotho' 'Liberia' 'Libya' 'Liechtenstein' 'Lithuania' 'Luxembourg'\n",
      " 'Macedonia' 'Madagascar' 'Malawi' 'Malaysia' 'Maldives' 'Mali' 'Malta'\n",
      " 'Martinique' 'Mauritania' 'Mauritius' 'Mayotte' 'Mexico' 'Moldova'\n",
      " 'Monaco' 'Mongolia' 'Montenegro' 'Montserrat' 'Morocco' 'Mozambique'\n",
      " 'Myanmar' 'Namibia' 'Nepal' 'Netherlands' 'New Caledonia' 'New Zealand'\n",
      " 'Nicaragua' 'Niger' 'Nigeria' 'Oman' 'Pakistan' 'Palau' 'Panama'\n",
      " 'Papua New Guinea' 'Paraguay' 'Philippines' 'Poland' 'Qatar' 'Reunion'\n",
      " 'Russia' 'Rwanda' 'Saint Kitts And Nevis' 'Saint Lucia' 'Saint Martin'\n",
      " 'Saint Pierre And Miquelon' 'Saint Vincent And The Grenadines' 'Samoa'\n",
      " 'San Marino' 'Sao Tome And Principe' 'Saudi Arabia' 'Senegal' 'Serbia'\n",
      " 'Seychelles' 'Singapore' 'Sint Maarten' 'Slovakia' 'Slovenia'\n",
      " 'Solomon Islands' 'Somalia' 'South Africa' 'South Sudan' 'Spain'\n",
      " 'Sri Lanka' 'State Of Palestine' 'Suriname' 'Swaziland' 'Sweden'\n",
      " 'Switzerland' 'Syria' 'Taiwan' 'Tajikistan' 'Thailand' 'Timor Leste'\n",
      " 'Togo' 'Tonga' 'Trinidad And Tobago' 'Turkey' 'Turks And Caicos Islands'\n",
      " 'Uganda' 'UK' 'United Arab Emirates' 'Uruguay' 'USA' 'Uzbekistan'\n",
      " 'Vanuatu' 'Venezuela' 'Viet Nam' 'Wallis And Futuna Islands'\n",
      " 'Western Sahara' 'Yemen' 'Zambia' 'Zimbabwe']\n",
      "\n",
      "\n",
      "continent\n",
      "['Asia' 'Europe' 'Africa' 'North America' 'South America'\n",
      " 'Australia/Oceania']\n",
      "\n",
      "\n",
      "total_confirmed\n",
      "[  179267   275574   265816    42156    99194     2984     7721  9101319\n",
      "   422896    35693  6593795  4212492   792638    33871   576997  1953012\n",
      "    76261  4116397    57896    26952    14135    59570   906146   306324\n",
      " 30682094   144659  1161504    20853    56105   136262   119780  3821346\n",
      "     9915    23578    14649     7414    75275  3605522   221804  6095316\n",
      "     8100    24079     5410   866164    81989  1131450  1104589    43017\n",
      "   477711  3915847    87023  2976667    15631    12685   580412   515645\n",
      "   162089    15910     9745   573922   470937    34658    64773 29160802\n",
      "    81784    47608    11999  1655221 25780226   161280    18129  3392575\n",
      "    11971    16344   140130   851877     8222    36597    63804    30713\n",
      "   424390  1909948 43121599  6050776  7228051  2326458  1535451    28416\n",
      "  4106793 17057873   131980  8338211  1694216  1305636   324026     3093\n",
      "   632074   200993   825699  1097956    32910     7451   501904    17347\n",
      "  1060619   244182   310684    64236    85887  4475873   179483    31003\n",
      "    93508   153253    58840    37843    37363  5745652   516986    12004\n",
      "   469885   236277      747  1165795   225493   613140   160074   978998\n",
      "  8067116    61049  1043683    18491     9013   255859   389408  1529249\n",
      "     4879   806277    43876   649718  3687922  6003436   366179   405980\n",
      " 18260293   129907     5605    24267    10602     2739     6799    11313\n",
      "    16852     5970   759226    86039  2012836    43235  1240233    10123\n",
      "  1787093  1019468    18174    26518  3887449    17525 12127122   663671\n",
      "   582119    80008    71698  2504894  3631881    55869   768543    17388\n",
      "  4373846    22889    37023    11049   154643 15053168     6046   164069\n",
      " 22159805   902484   902540 84209473   238802     8457   522921 10696630\n",
      "      454       10    11819   320591   249206]\n",
      "\n",
      "\n",
      "total_deaths\n",
      "[7.690000e+03 3.497000e+03 6.875000e+03 1.530000e+02 1.900000e+03\n",
      " 9.000000e+00 1.370000e+02 1.287290e+05 8.623000e+03 2.130000e+02\n",
      " 7.794000e+03 1.830300e+04 9.709000e+03 8.010000e+02 1.479000e+03\n",
      " 2.912700e+04 4.330000e+02 3.161300e+04 6.760000e+02 1.630000e+02\n",
      " 1.350000e+02 2.100000e+01 2.194300e+04 2.690000e+03 6.649200e+05\n",
      " 2.200000e+02 3.704500e+04 3.820000e+02 4.010000e+02 3.056000e+03\n",
      " 1.927000e+03 4.022800e+04 3.500000e+01 2.800000e+01 1.130000e+02\n",
      " 1.930000e+02 1.730000e+02 5.772200e+04 5.209000e+03 1.398210e+05\n",
      " 1.600000e+02 3.850000e+02 1.000000e+00 8.444000e+03 7.990000e+02\n",
      " 1.593000e+04 8.529000e+03 2.750000e+02 1.032000e+03 4.024500e+04\n",
      " 1.337000e+03 6.287000e+03 1.890000e+02 6.300000e+01 4.376000e+03\n",
      " 2.461300e+04 4.129000e+03 1.830000e+02 1.030000e+02 2.556000e+03\n",
      " 7.510000e+03 8.620000e+02 1.472570e+05 3.970000e+02 3.040000e+02\n",
      " 3.650000e+02 1.681100e+04 1.379190e+05 1.445000e+03 1.020000e+02\n",
      " 2.954700e+04 2.210000e+02 8.540000e+02 1.779200e+04 1.710000e+02\n",
      " 4.420000e+02 1.228000e+03 8.350000e+02 1.089600e+04 4.634300e+04\n",
      " 5.242140e+05 1.564580e+05 1.412240e+05 2.521600e+04 7.203000e+03\n",
      " 1.050000e+02 1.074900e+04 1.652440e+05 2.995000e+03 3.003900e+04\n",
      " 1.404800e+04 1.366100e+04 5.649000e+03 1.300000e+01 2.555000e+03\n",
      " 2.991000e+03 5.798000e+03 1.040700e+04 6.970000e+02 2.940000e+02\n",
      " 6.430000e+03 8.400000e+01 9.127000e+03 1.073000e+03 9.289000e+03\n",
      " 1.393000e+03 2.636000e+03 3.561200e+04 2.980000e+02 7.330000e+02\n",
      " 7.130000e+02 9.260000e+02 9.820000e+02 9.960000e+02 1.870000e+02\n",
      " 3.244650e+05 1.148900e+04 5.400000e+01 2.179000e+03 2.719000e+03\n",
      " 2.000000e+00 1.607100e+04 2.201000e+03 1.943400e+04 4.028000e+03\n",
      " 1.195200e+04 2.229200e+04 3.120000e+02 9.230000e+02 2.250000e+02\n",
      " 3.100000e+02 3.143000e+03 4.260000e+03 3.037600e+04 6.000000e+00\n",
      " 8.203000e+03 6.510000e+02 1.887200e+04 6.045500e+04 1.162070e+05\n",
      " 6.770000e+02 7.620000e+02 3.776700e+05 1.459000e+03 4.300000e+01\n",
      " 3.680000e+02 1.060000e+02 2.400000e+01 1.150000e+02 7.300000e+01\n",
      " 9.116000e+03 1.966000e+03 1.604900e+04 1.670000e+02 1.362000e+03\n",
      " 8.600000e+01 2.004100e+04 6.622000e+03 1.460000e+02 1.350000e+03\n",
      " 1.007530e+05 1.380000e+02 1.054440e+05 1.651100e+04 5.353000e+03\n",
      " 1.402000e+03 1.886400e+04 1.388200e+04 3.150000e+03 1.068000e+03\n",
      " 1.240000e+02 2.947500e+04 1.310000e+02 2.730000e+02 1.100000e+01\n",
      " 3.871000e+03 9.889000e+04 3.600000e+01 3.596000e+03 1.767080e+05\n",
      " 2.302000e+03 7.213000e+03 1.026646e+06 1.637000e+03 1.400000e+01\n",
      " 5.711000e+03 4.306500e+04 7.000000e+00 2.149000e+03 3.983000e+03\n",
      " 5.482000e+03]\n",
      "\n",
      "\n",
      "total_recovered\n",
      "[1.6220200e+05 2.7182600e+05 1.7837100e+05 4.1021000e+04 9.7149000e+04\n",
      " 2.9160000e+03 7.5110000e+03 8.8959990e+06 4.1204800e+05 3.5199000e+04\n",
      " 6.1998220e+06 4.1358850e+06 7.8286900e+05 3.2488000e+04 5.6975800e+05\n",
      " 1.8994190e+06 7.1497000e+04 3.9413500e+06 5.6761000e+04 2.5506000e+04\n",
      " 1.3664000e+04 5.9491000e+04 8.6366500e+05 3.0302600e+05 2.9718402e+07\n",
      " 1.4278800e+05 1.0143020e+06 2.0439000e+04 5.5613000e+04 1.3319400e+05\n",
      " 1.1779100e+05 3.4995640e+06 9.8290000e+03 8.5530000e+03 6.8590000e+03\n",
      " 4.8740000e+03 7.4574000e+04 3.4681310e+06 2.1045400e+05 5.9288290e+06\n",
      " 7.9330000e+03 2.0178000e+04 5.2910000e+03 8.4168300e+05 8.1168000e+04\n",
      " 1.1114050e+06 1.0955340e+06 4.2203000e+04 1.2437000e+05 3.8716540e+06\n",
      " 5.0930000e+04 2.9603860e+06 1.5427000e+04 1.2323000e+04 5.7558300e+05\n",
      " 4.4218200e+05 1.5066200e+05 1.5701000e+04 9.6320000e+03 5.1483600e+05\n",
      " 4.5575700e+05 7.6930000e+03 6.2875000e+04 2.8156674e+07 1.1254000e+04\n",
      " 4.7297000e+04 1.1591000e+04 1.6372930e+06 2.3956700e+07 1.5978800e+05\n",
      " 1.6579000e+04 3.3060140e+06 2.7610000e+03 1.4634000e+04 2.2500000e+03\n",
      " 8.3179400e+05 8.0100000e+03 3.6113000e+04 6.2301000e+04 2.9605000e+04\n",
      " 1.3235800e+05 1.8214350e+06 4.2579693e+07 5.8895340e+06 7.0208350e+06\n",
      " 2.2999850e+06 1.4998790e+06 2.6794000e+04 4.0811500e+06 1.5894511e+07\n",
      " 8.4883000e+04 7.9515870e+06 1.6789410e+06 1.2916690e+06 3.1814200e+05\n",
      " 2.6020000e+03 6.2911400e+05 1.9640600e+05 8.1625300e+05 1.0848530e+06\n",
      " 2.4155000e+04 5.7470000e+03 4.9097300e+05 1.7192000e+04 1.0326090e+06\n",
      " 2.3593900e+05 3.0076100e+05 5.9370000e+04 8.2703000e+04 4.4091590e+06\n",
      " 1.6368700e+05 3.0088000e+04 9.0076000e+04 1.0400000e+02 5.7708000e+04\n",
      " 3.6183000e+04 2.9640000e+03 5.0448930e+06 5.0414200e+05 1.1866000e+04\n",
      " 3.1325600e+05 2.3295500e+05 3.9000000e+02 1.1490540e+06 2.2319000e+05\n",
      " 5.9208900e+05 1.5366200e+05 9.6690400e+05 7.9891510e+06 6.0339000e+04\n",
      " 9.8900500e+05 4.2250000e+03 8.5790000e+03 2.4994300e+05 3.8459200e+05\n",
      " 1.4941410e+06 4.1660000e+03 7.7342100e+05 4.3200000e+04 6.2467300e+05\n",
      " 3.6244590e+06 5.3351120e+06 3.6447400e+05 3.9543000e+05 1.7647179e+07\n",
      " 4.5522000e+04 5.5470000e+03 2.3277000e+04 1.3990000e+03 2.4490000e+03\n",
      " 6.6410000e+03 1.6050000e+03 1.6454000e+04 5.8910000e+03 7.4392100e+05\n",
      " 8.4059000e+04 1.9882090e+06 4.2553000e+04 1.1621400e+06 9.9850000e+03\n",
      " 1.7616640e+06 1.0035590e+06 1.6357000e+04 1.3182000e+04 3.7083470e+06\n",
      " 1.3514000e+04 1.1548089e+07 6.4692100e+05 5.7668400e+05 4.9455000e+04\n",
      " 6.9549000e+04 2.4777250e+06 3.5514930e+06 5.2479000e+04 6.0634000e+04\n",
      " 1.7264000e+04 4.2735990e+06 2.2746000e+04 3.6727000e+04 1.0110000e+04\n",
      " 1.4135400e+05 1.4951238e+07 5.9630000e+03 1.0020500e+05 2.1677896e+07\n",
      " 8.8612800e+05 8.9243400e+05 8.1244260e+07 2.3697400e+05 7.9740000e+03\n",
      " 5.1617000e+05 9.3550400e+06 4.3800000e+02 9.0000000e+00 9.0090000e+03\n",
      " 3.1599700e+05 2.4241700e+05]\n",
      "\n",
      "\n",
      "active_cases\n",
      "[9.375000e+03 2.510000e+02 8.057000e+04 9.820000e+02 1.450000e+02\n",
      " 5.900000e+01 7.300000e+01 7.659100e+04 2.225000e+03 2.810000e+02\n",
      " 3.861790e+05 5.830400e+04 6.000000e+01 5.820000e+02 5.760000e+03\n",
      " 2.446600e+04 4.331000e+03 1.434340e+05 4.590000e+02 1.283000e+03\n",
      " 3.360000e+02 5.800000e+01 2.053800e+04 6.080000e+02 2.987720e+05\n",
      " 1.651000e+03 1.101570e+05 3.200000e+01 9.100000e+01 1.200000e+01\n",
      " 6.200000e+01 2.815540e+05 5.100000e+01 1.499700e+04 7.677000e+03\n",
      " 2.347000e+03 5.280000e+02 7.966900e+04 6.141000e+03 2.666600e+04\n",
      " 7.000000e+00 3.516000e+03 1.180000e+02 1.603700e+04 2.200000e+01\n",
      " 4.115000e+03 5.260000e+02 5.390000e+02 3.523090e+05 3.948000e+03\n",
      " 3.475600e+04 9.994000e+03 1.500000e+01 2.990000e+02 4.530000e+02\n",
      " 4.885000e+04 7.298000e+03 2.600000e+01 1.000000e+01 5.653000e+04\n",
      " 7.670000e+03 2.693700e+04 1.036000e+03 8.568710e+05 7.013300e+04\n",
      " 4.300000e+01 1.117000e+03 1.685607e+06 4.700000e+01 1.448000e+03\n",
      " 5.701400e+04 9.189000e+03 1.489000e+03 1.370260e+05 2.291000e+03\n",
      " 4.100000e+01 4.200000e+01 2.750000e+02 2.730000e+02 2.811360e+05\n",
      " 4.217000e+04 1.769200e+04 4.784000e+03 6.599200e+04 1.257000e+03\n",
      " 2.836900e+04 1.517000e+03 1.489400e+04 9.981180e+05 4.410200e+04\n",
      " 3.565850e+05 1.227000e+03 3.060000e+02 2.350000e+02 4.780000e+02\n",
      " 4.050000e+02 1.596000e+03 3.648000e+03 2.696000e+03 8.058000e+03\n",
      " 1.410000e+03 4.501000e+03 7.100000e+01 1.888300e+04 7.170000e+03\n",
      " 6.340000e+02 3.473000e+03 5.480000e+02 3.110200e+04 1.549800e+04\n",
      " 1.820000e+02 2.719000e+03 1.522230e+05 1.500000e+02 6.640000e+02\n",
      " 3.421200e+04 3.762940e+05 1.355000e+03 8.400000e+01 1.544500e+05\n",
      " 6.030000e+02 3.550000e+02 6.700000e+02 1.020000e+02 1.617000e+03\n",
      " 2.384000e+03 1.420000e+02 5.567300e+04 3.980000e+02 5.375500e+04\n",
      " 1.404100e+04 1.240000e+02 2.773000e+03 5.560000e+02 4.732000e+03\n",
      " 7.070000e+02 2.465300e+04 2.500000e+01 6.173000e+03 3.008000e+03\n",
      " 5.521170e+05 1.028000e+03 9.788000e+03 2.354440e+05 8.292600e+04\n",
      " 6.220000e+02 9.140000e+03 2.890000e+02 5.200000e+01 9.684000e+03\n",
      " 2.830000e+02 6.000000e+00 6.189000e+03 1.400000e+01 8.578000e+03\n",
      " 5.150000e+02 7.673100e+04 5.388000e+03 9.287000e+03 1.671000e+03\n",
      " 1.198600e+04 7.834900e+04 3.873000e+03 4.735890e+05 2.390000e+02\n",
      " 8.200000e+01 2.921600e+04 7.470000e+02 8.305000e+03 6.650600e+04\n",
      " 2.400000e+02 7.068410e+05 0.000000e+00 7.077200e+04 2.300000e+01\n",
      " 9.280000e+02 9.418000e+03 3.040000e+03 6.026800e+04 3.052010e+05\n",
      " 1.405400e+04 2.893000e+03 1.938567e+06 1.910000e+02 4.690000e+02\n",
      " 1.040000e+03 1.298525e+06 9.000000e+00 6.610000e+02 6.110000e+02\n",
      " 1.307000e+03]\n",
      "\n",
      "\n",
      "population\n",
      "[  40560636    2871945   45325517      77495   34769277      15252\n",
      "      99439   45968174    2973558     107610   26050899    9102106\n",
      "   10309383     400242    1811659  167745162     288030   11683561\n",
      "     411069   12714341      61850     787432   11969554    2440037\n",
      "  215373503     445281    6851060   21970296     567234   17149867\n",
      "   27776053   38358465      26677      67159    4986136   17303260\n",
      "     176848   19421812 1439323776   51892950     904091    5770949\n",
      "      17594    5180753   27594347    4058130   11313741     165343\n",
      "    1223728   10745981   94629737    5830190    1014756      72319\n",
      "   11050510  105928386    6547158    1488778    3637828    1328196\n",
      "  120265111      49209     908543   65542502     313094    2323511\n",
      "    2543054    3974908   84282880   32280617      33672   10328255\n",
      "      56953     113494     400251   18532670    2054599   13795931\n",
      "     793621   11661401   10197959    9614673 1405273033  278910317\n",
      "   85995095   41902979    5040509      85871    9326000   60296265\n",
      "    2985238  125755488   10391780   19194987   55976553     122862\n",
      "    4388186    6724638    1847378    6768532    2173878    5278999\n",
      "    7045301      38332    2651588     644943    2083215   29016291\n",
      "   20050211   33138284     558272   21336613     443733     374723\n",
      "    4877181    1275698     285070  131455607    4016504      39760\n",
      "    3376601     628214       4998   37725337   32885526   55089133\n",
      "    2626590   30112649   17205480     290610    5002100    6771338\n",
      "   25837472  215651424    5348410  228878790      18255    4441253\n",
      "    9262605    7295705  112297269   37769420    2807805     907212\n",
      "  146050996   13549956      53900     185190      39894       5741\n",
      "     111596     200869      34064     226737   35823522   17565349\n",
      "    8671838      99481    5936034      43783    5464567    2079470\n",
      "     718243   16718643   60701292   11438136   46788503   21580463\n",
      "    5322203     596421    1182536   10216549    8772500   18292142\n",
      "   23897056    9936493   70126166    1365204    8639966     107926\n",
      "    1407928   86029250      39692   48429823   68550166   10112950\n",
      "    3496151  334617623   34372515     320508   28285909   98969721\n",
      "      10873     624681   31049015   19342381   15265849]\n",
      "\n",
      "\n"
     ]
    }
   ],
   "source": [
    "for i in summary_data.columns :\n",
    "    print(i)\n",
    "    print(summary_data[i].unique())\n",
    "    print('\\n')  "
   ]
  },
  {
   "cell_type": "markdown",
   "id": "0f0141c5",
   "metadata": {},
   "source": [
    "### Handling Data types of Columns"
   ]
  },
  {
   "cell_type": "code",
   "execution_count": 12,
   "id": "32304ee4",
   "metadata": {},
   "outputs": [
    {
     "data": {
      "text/plain": [
       "country             object\n",
       "continent           object\n",
       "total_confirmed      int64\n",
       "total_deaths       float64\n",
       "total_recovered    float64\n",
       "active_cases       float64\n",
       "population           int64\n",
       "dtype: object"
      ]
     },
     "execution_count": 12,
     "metadata": {},
     "output_type": "execute_result"
    }
   ],
   "source": [
    "summary_data.dtypes"
   ]
  },
  {
   "cell_type": "code",
   "execution_count": 13,
   "id": "2a678eca",
   "metadata": {},
   "outputs": [],
   "source": [
    "summary_data['total_deaths'] = summary_data['total_deaths'].apply(np.int64)"
   ]
  },
  {
   "cell_type": "code",
   "execution_count": 14,
   "id": "536f65f0",
   "metadata": {},
   "outputs": [],
   "source": [
    "summary_data['total_recovered'] = summary_data['total_recovered'].apply(np.int64)"
   ]
  },
  {
   "cell_type": "code",
   "execution_count": 15,
   "id": "a4507c02",
   "metadata": {},
   "outputs": [],
   "source": [
    "summary_data['active_cases'] = summary_data['active_cases'].apply(np.int64)"
   ]
  },
  {
   "cell_type": "code",
   "execution_count": 16,
   "id": "b9e5f110",
   "metadata": {},
   "outputs": [
    {
     "data": {
      "text/plain": [
       "country            object\n",
       "continent          object\n",
       "total_confirmed     int64\n",
       "total_deaths        int64\n",
       "total_recovered     int64\n",
       "active_cases        int64\n",
       "population          int64\n",
       "dtype: object"
      ]
     },
     "execution_count": 16,
     "metadata": {},
     "output_type": "execute_result"
    }
   ],
   "source": [
    "summary_data.dtypes"
   ]
  },
  {
   "cell_type": "code",
   "execution_count": 17,
   "id": "d1954782",
   "metadata": {
    "scrolled": true
   },
   "outputs": [
    {
     "data": {
      "text/html": [
       "<div>\n",
       "<style scoped>\n",
       "    .dataframe tbody tr th:only-of-type {\n",
       "        vertical-align: middle;\n",
       "    }\n",
       "\n",
       "    .dataframe tbody tr th {\n",
       "        vertical-align: top;\n",
       "    }\n",
       "\n",
       "    .dataframe thead th {\n",
       "        text-align: right;\n",
       "    }\n",
       "</style>\n",
       "<table border=\"1\" class=\"dataframe\">\n",
       "  <thead>\n",
       "    <tr style=\"text-align: right;\">\n",
       "      <th></th>\n",
       "      <th>country</th>\n",
       "      <th>continent</th>\n",
       "      <th>total_confirmed</th>\n",
       "      <th>total_deaths</th>\n",
       "      <th>total_recovered</th>\n",
       "      <th>active_cases</th>\n",
       "      <th>population</th>\n",
       "    </tr>\n",
       "  </thead>\n",
       "  <tbody>\n",
       "    <tr>\n",
       "      <th>0</th>\n",
       "      <td>Afghanistan</td>\n",
       "      <td>Asia</td>\n",
       "      <td>179267</td>\n",
       "      <td>7690</td>\n",
       "      <td>162202</td>\n",
       "      <td>9375</td>\n",
       "      <td>40560636</td>\n",
       "    </tr>\n",
       "    <tr>\n",
       "      <th>1</th>\n",
       "      <td>Albania</td>\n",
       "      <td>Europe</td>\n",
       "      <td>275574</td>\n",
       "      <td>3497</td>\n",
       "      <td>271826</td>\n",
       "      <td>251</td>\n",
       "      <td>2871945</td>\n",
       "    </tr>\n",
       "    <tr>\n",
       "      <th>2</th>\n",
       "      <td>Algeria</td>\n",
       "      <td>Africa</td>\n",
       "      <td>265816</td>\n",
       "      <td>6875</td>\n",
       "      <td>178371</td>\n",
       "      <td>80570</td>\n",
       "      <td>45325517</td>\n",
       "    </tr>\n",
       "  </tbody>\n",
       "</table>\n",
       "</div>"
      ],
      "text/plain": [
       "       country continent  total_confirmed  total_deaths  total_recovered  \\\n",
       "0  Afghanistan      Asia           179267          7690           162202   \n",
       "1      Albania    Europe           275574          3497           271826   \n",
       "2      Algeria    Africa           265816          6875           178371   \n",
       "\n",
       "   active_cases  population  \n",
       "0          9375    40560636  \n",
       "1           251     2871945  \n",
       "2         80570    45325517  "
      ]
     },
     "execution_count": 17,
     "metadata": {},
     "output_type": "execute_result"
    }
   ],
   "source": [
    "summary_data.head(3)"
   ]
  },
  {
   "cell_type": "code",
   "execution_count": null,
   "id": "0937552d",
   "metadata": {},
   "outputs": [],
   "source": []
  },
  {
   "cell_type": "markdown",
   "id": "0619d5a6",
   "metadata": {},
   "source": [
    "## Cleaning daily_data"
   ]
  },
  {
   "cell_type": "code",
   "execution_count": 18,
   "id": "d173aefb",
   "metadata": {},
   "outputs": [
    {
     "data": {
      "text/html": [
       "<div>\n",
       "<style scoped>\n",
       "    .dataframe tbody tr th:only-of-type {\n",
       "        vertical-align: middle;\n",
       "    }\n",
       "\n",
       "    .dataframe tbody tr th {\n",
       "        vertical-align: top;\n",
       "    }\n",
       "\n",
       "    .dataframe thead th {\n",
       "        text-align: right;\n",
       "    }\n",
       "</style>\n",
       "<table border=\"1\" class=\"dataframe\">\n",
       "  <thead>\n",
       "    <tr style=\"text-align: right;\">\n",
       "      <th></th>\n",
       "      <th>date</th>\n",
       "      <th>country</th>\n",
       "      <th>cumulative_total_cases</th>\n",
       "      <th>daily_new_cases</th>\n",
       "      <th>active_cases</th>\n",
       "      <th>cumulative_total_deaths</th>\n",
       "      <th>daily_new_deaths</th>\n",
       "    </tr>\n",
       "  </thead>\n",
       "  <tbody>\n",
       "    <tr>\n",
       "      <th>0</th>\n",
       "      <td>2020-2-15</td>\n",
       "      <td>Afghanistan</td>\n",
       "      <td>0.0</td>\n",
       "      <td>NaN</td>\n",
       "      <td>0.0</td>\n",
       "      <td>0.0</td>\n",
       "      <td>NaN</td>\n",
       "    </tr>\n",
       "    <tr>\n",
       "      <th>1</th>\n",
       "      <td>2020-2-16</td>\n",
       "      <td>Afghanistan</td>\n",
       "      <td>0.0</td>\n",
       "      <td>NaN</td>\n",
       "      <td>0.0</td>\n",
       "      <td>0.0</td>\n",
       "      <td>NaN</td>\n",
       "    </tr>\n",
       "    <tr>\n",
       "      <th>2</th>\n",
       "      <td>2020-2-17</td>\n",
       "      <td>Afghanistan</td>\n",
       "      <td>0.0</td>\n",
       "      <td>NaN</td>\n",
       "      <td>0.0</td>\n",
       "      <td>0.0</td>\n",
       "      <td>NaN</td>\n",
       "    </tr>\n",
       "  </tbody>\n",
       "</table>\n",
       "</div>"
      ],
      "text/plain": [
       "        date      country  cumulative_total_cases  daily_new_cases  \\\n",
       "0  2020-2-15  Afghanistan                     0.0              NaN   \n",
       "1  2020-2-16  Afghanistan                     0.0              NaN   \n",
       "2  2020-2-17  Afghanistan                     0.0              NaN   \n",
       "\n",
       "   active_cases  cumulative_total_deaths  daily_new_deaths  \n",
       "0           0.0                      0.0               NaN  \n",
       "1           0.0                      0.0               NaN  \n",
       "2           0.0                      0.0               NaN  "
      ]
     },
     "execution_count": 18,
     "metadata": {},
     "output_type": "execute_result"
    }
   ],
   "source": [
    "daily_data.head(3)"
   ]
  },
  {
   "cell_type": "markdown",
   "id": "330e85a7",
   "metadata": {},
   "source": [
    "### Checking and droping unwanted columns"
   ]
  },
  {
   "cell_type": "code",
   "execution_count": 19,
   "id": "e192d8c4",
   "metadata": {},
   "outputs": [
    {
     "data": {
      "text/plain": [
       "Index(['date', 'country', 'cumulative_total_cases', 'daily_new_cases',\n",
       "       'active_cases', 'cumulative_total_deaths', 'daily_new_deaths'],\n",
       "      dtype='object')"
      ]
     },
     "execution_count": 19,
     "metadata": {},
     "output_type": "execute_result"
    }
   ],
   "source": [
    "daily_data.columns"
   ]
  },
  {
   "cell_type": "code",
   "execution_count": 20,
   "id": "527c6e39",
   "metadata": {},
   "outputs": [],
   "source": [
    "daily_data.drop(['cumulative_total_deaths'],axis = 1 , inplace = True)"
   ]
  },
  {
   "cell_type": "code",
   "execution_count": 21,
   "id": "0debd2a8",
   "metadata": {},
   "outputs": [
    {
     "data": {
      "text/html": [
       "<div>\n",
       "<style scoped>\n",
       "    .dataframe tbody tr th:only-of-type {\n",
       "        vertical-align: middle;\n",
       "    }\n",
       "\n",
       "    .dataframe tbody tr th {\n",
       "        vertical-align: top;\n",
       "    }\n",
       "\n",
       "    .dataframe thead th {\n",
       "        text-align: right;\n",
       "    }\n",
       "</style>\n",
       "<table border=\"1\" class=\"dataframe\">\n",
       "  <thead>\n",
       "    <tr style=\"text-align: right;\">\n",
       "      <th></th>\n",
       "      <th>date</th>\n",
       "      <th>country</th>\n",
       "      <th>cumulative_total_cases</th>\n",
       "      <th>daily_new_cases</th>\n",
       "      <th>active_cases</th>\n",
       "      <th>daily_new_deaths</th>\n",
       "    </tr>\n",
       "  </thead>\n",
       "  <tbody>\n",
       "    <tr>\n",
       "      <th>0</th>\n",
       "      <td>2020-2-15</td>\n",
       "      <td>Afghanistan</td>\n",
       "      <td>0.0</td>\n",
       "      <td>NaN</td>\n",
       "      <td>0.0</td>\n",
       "      <td>NaN</td>\n",
       "    </tr>\n",
       "    <tr>\n",
       "      <th>1</th>\n",
       "      <td>2020-2-16</td>\n",
       "      <td>Afghanistan</td>\n",
       "      <td>0.0</td>\n",
       "      <td>NaN</td>\n",
       "      <td>0.0</td>\n",
       "      <td>NaN</td>\n",
       "    </tr>\n",
       "    <tr>\n",
       "      <th>2</th>\n",
       "      <td>2020-2-17</td>\n",
       "      <td>Afghanistan</td>\n",
       "      <td>0.0</td>\n",
       "      <td>NaN</td>\n",
       "      <td>0.0</td>\n",
       "      <td>NaN</td>\n",
       "    </tr>\n",
       "    <tr>\n",
       "      <th>3</th>\n",
       "      <td>2020-2-18</td>\n",
       "      <td>Afghanistan</td>\n",
       "      <td>0.0</td>\n",
       "      <td>NaN</td>\n",
       "      <td>0.0</td>\n",
       "      <td>NaN</td>\n",
       "    </tr>\n",
       "    <tr>\n",
       "      <th>4</th>\n",
       "      <td>2020-2-19</td>\n",
       "      <td>Afghanistan</td>\n",
       "      <td>0.0</td>\n",
       "      <td>NaN</td>\n",
       "      <td>0.0</td>\n",
       "      <td>NaN</td>\n",
       "    </tr>\n",
       "  </tbody>\n",
       "</table>\n",
       "</div>"
      ],
      "text/plain": [
       "        date      country  cumulative_total_cases  daily_new_cases  \\\n",
       "0  2020-2-15  Afghanistan                     0.0              NaN   \n",
       "1  2020-2-16  Afghanistan                     0.0              NaN   \n",
       "2  2020-2-17  Afghanistan                     0.0              NaN   \n",
       "3  2020-2-18  Afghanistan                     0.0              NaN   \n",
       "4  2020-2-19  Afghanistan                     0.0              NaN   \n",
       "\n",
       "   active_cases  daily_new_deaths  \n",
       "0           0.0               NaN  \n",
       "1           0.0               NaN  \n",
       "2           0.0               NaN  \n",
       "3           0.0               NaN  \n",
       "4           0.0               NaN  "
      ]
     },
     "execution_count": 21,
     "metadata": {},
     "output_type": "execute_result"
    }
   ],
   "source": [
    "daily_data.head(5)"
   ]
  },
  {
   "cell_type": "markdown",
   "id": "ba8e9721",
   "metadata": {},
   "source": [
    "###   Checking and Handling null values"
   ]
  },
  {
   "cell_type": "code",
   "execution_count": 22,
   "id": "4282d4ee",
   "metadata": {
    "scrolled": true
   },
   "outputs": [
    {
     "data": {
      "text/plain": [
       "date                          0\n",
       "country                       0\n",
       "cumulative_total_cases        0\n",
       "daily_new_cases           10458\n",
       "active_cases              18040\n",
       "daily_new_deaths          26937\n",
       "dtype: int64"
      ]
     },
     "execution_count": 22,
     "metadata": {},
     "output_type": "execute_result"
    }
   ],
   "source": [
    "daily_data.isnull().sum()"
   ]
  },
  {
   "cell_type": "code",
   "execution_count": 23,
   "id": "e9b4147e",
   "metadata": {},
   "outputs": [
    {
     "data": {
      "text/plain": [
       "(184787, 6)"
      ]
     },
     "execution_count": 23,
     "metadata": {},
     "output_type": "execute_result"
    }
   ],
   "source": [
    "daily_data.shape"
   ]
  },
  {
   "cell_type": "code",
   "execution_count": 24,
   "id": "ecad6c0b",
   "metadata": {},
   "outputs": [],
   "source": [
    "daily_data.dropna(inplace = True)"
   ]
  },
  {
   "cell_type": "code",
   "execution_count": 25,
   "id": "6ea5913a",
   "metadata": {},
   "outputs": [
    {
     "data": {
      "text/plain": [
       "date                      0\n",
       "country                   0\n",
       "cumulative_total_cases    0\n",
       "daily_new_cases           0\n",
       "active_cases              0\n",
       "daily_new_deaths          0\n",
       "dtype: int64"
      ]
     },
     "execution_count": 25,
     "metadata": {},
     "output_type": "execute_result"
    }
   ],
   "source": [
    "daily_data.isnull().sum()"
   ]
  },
  {
   "cell_type": "code",
   "execution_count": 38,
   "id": "1f6b932b",
   "metadata": {},
   "outputs": [
    {
     "data": {
      "text/plain": [
       "(142034, 6)"
      ]
     },
     "execution_count": 38,
     "metadata": {},
     "output_type": "execute_result"
    }
   ],
   "source": [
    "daily_data.shape"
   ]
  },
  {
   "cell_type": "markdown",
   "id": "b7d88e39",
   "metadata": {},
   "source": [
    "### Unique Values of columns"
   ]
  },
  {
   "cell_type": "code",
   "execution_count": 26,
   "id": "c3ef49b3",
   "metadata": {},
   "outputs": [
    {
     "name": "stdout",
     "output_type": "stream",
     "text": [
      "date\n",
      "['2020-2-25' '2020-2-26' '2020-2-27' '2020-2-28' '2020-2-29' '2020-3-01'\n",
      " '2020-3-02' '2020-3-03' '2020-3-04' '2020-3-05' '2020-3-06' '2020-3-07'\n",
      " '2020-3-08' '2020-3-09' '2020-3-10' '2020-3-11' '2020-3-12' '2020-3-13'\n",
      " '2020-3-14' '2020-3-15' '2020-3-16' '2020-3-17' '2020-3-18' '2020-3-19'\n",
      " '2020-3-20' '2020-3-21' '2020-3-22' '2020-3-23' '2020-3-24' '2020-3-25'\n",
      " '2020-3-26' '2020-3-27' '2020-3-28' '2020-3-29' '2020-3-30' '2020-3-31'\n",
      " '2020-4-01' '2020-4-02' '2020-4-03' '2020-4-04' '2020-4-05' '2020-4-06'\n",
      " '2020-4-07' '2020-4-08' '2020-4-09' '2020-4-10' '2020-4-11' '2020-4-12'\n",
      " '2020-4-13' '2020-4-14' '2020-4-15' '2020-4-16' '2020-4-17' '2020-4-18'\n",
      " '2020-4-19' '2020-4-20' '2020-4-21' '2020-4-22' '2020-4-23' '2020-4-24'\n",
      " '2020-4-25' '2020-4-26' '2020-4-27' '2020-4-28' '2020-4-29' '2020-4-30'\n",
      " '2020-5-01' '2020-5-02' '2020-5-03' '2020-5-04' '2020-5-05' '2020-5-06'\n",
      " '2020-5-07' '2020-5-08' '2020-5-09' '2020-5-10' '2020-5-11' '2020-5-12'\n",
      " '2020-5-13' '2020-5-14' '2020-5-15' '2020-5-16' '2020-5-17' '2020-5-18'\n",
      " '2020-5-19' '2020-5-20' '2020-5-21' '2020-5-22' '2020-5-23' '2020-5-24'\n",
      " '2020-5-25' '2020-5-26' '2020-5-27' '2020-5-28' '2020-5-29' '2020-5-30'\n",
      " '2020-5-31' '2020-6-01' '2020-6-02' '2020-6-03' '2020-6-04' '2020-6-05'\n",
      " '2020-6-06' '2020-6-07' '2020-6-08' '2020-6-09' '2020-6-10' '2020-6-11'\n",
      " '2020-6-12' '2020-6-13' '2020-6-14' '2020-6-15' '2020-6-16' '2020-6-17'\n",
      " '2020-6-18' '2020-6-19' '2020-6-20' '2020-6-21' '2020-6-22' '2020-6-23'\n",
      " '2020-6-24' '2020-6-25' '2020-6-26' '2020-6-27' '2020-6-28' '2020-6-29'\n",
      " '2020-6-30' '2020-7-01' '2020-7-02' '2020-7-03' '2020-7-04' '2020-7-05'\n",
      " '2020-7-06' '2020-7-07' '2020-7-08' '2020-7-09' '2020-7-10' '2020-7-11'\n",
      " '2020-7-12' '2020-7-13' '2020-7-14' '2020-7-15' '2020-7-16' '2020-7-17'\n",
      " '2020-7-18' '2020-7-19' '2020-7-20' '2020-7-21' '2020-7-22' '2020-7-23'\n",
      " '2020-7-24' '2020-7-25' '2020-7-26' '2020-7-27' '2020-7-28' '2020-7-29'\n",
      " '2020-7-30' '2020-7-31' '2020-8-01' '2020-8-02' '2020-8-03' '2020-8-04'\n",
      " '2020-8-05' '2020-8-06' '2020-8-07' '2020-8-08' '2020-8-09' '2020-8-10'\n",
      " '2020-8-11' '2020-8-12' '2020-8-13' '2020-8-14' '2020-8-15' '2020-8-16'\n",
      " '2020-8-17' '2020-8-18' '2020-8-19' '2020-8-20' '2020-8-21' '2020-8-22'\n",
      " '2020-8-23' '2020-8-24' '2020-8-25' '2020-8-26' '2020-8-27' '2020-8-28'\n",
      " '2020-8-29' '2020-8-30' '2020-8-31' '2020-9-01' '2020-9-02' '2020-9-03'\n",
      " '2020-9-04' '2020-9-05' '2020-9-06' '2020-9-07' '2020-9-08' '2020-9-09'\n",
      " '2020-9-10' '2020-9-11' '2020-9-12' '2020-9-13' '2020-9-14' '2020-9-15'\n",
      " '2020-9-16' '2020-9-17' '2020-9-18' '2020-9-19' '2020-9-20' '2020-9-21'\n",
      " '2020-9-22' '2020-9-23' '2020-9-24' '2020-9-25' '2020-9-26' '2020-9-27'\n",
      " '2020-9-28' '2020-9-29' '2020-9-30' '2020-10-01' '2020-10-02'\n",
      " '2020-10-03' '2020-10-04' '2020-10-05' '2020-10-06' '2020-10-07'\n",
      " '2020-10-08' '2020-10-09' '2020-10-10' '2020-10-11' '2020-10-12'\n",
      " '2020-10-13' '2020-10-14' '2020-10-15' '2020-10-16' '2020-10-17'\n",
      " '2020-10-18' '2020-10-19' '2020-10-20' '2020-10-21' '2020-10-22'\n",
      " '2020-10-23' '2020-10-24' '2020-10-25' '2020-10-26' '2020-10-27'\n",
      " '2020-10-28' '2020-10-29' '2020-10-30' '2020-10-31' '2020-11-01'\n",
      " '2020-11-02' '2020-11-03' '2020-11-04' '2020-11-05' '2020-11-06'\n",
      " '2020-11-07' '2020-11-08' '2020-11-09' '2020-11-10' '2020-11-11'\n",
      " '2020-11-12' '2020-11-13' '2020-11-14' '2020-11-15' '2020-11-16'\n",
      " '2020-11-17' '2020-11-18' '2020-11-19' '2020-11-20' '2020-11-21'\n",
      " '2020-11-22' '2020-11-23' '2020-11-24' '2020-11-25' '2020-11-26'\n",
      " '2020-11-27' '2020-11-28' '2020-11-29' '2020-11-30' '2020-12-01'\n",
      " '2020-12-02' '2020-12-03' '2020-12-04' '2020-12-05' '2020-12-06'\n",
      " '2020-12-07' '2020-12-08' '2020-12-09' '2020-12-10' '2020-12-11'\n",
      " '2020-12-12' '2020-12-13' '2020-12-14' '2020-12-15' '2020-12-16'\n",
      " '2020-12-17' '2020-12-18' '2020-12-19' '2020-12-20' '2020-12-21'\n",
      " '2020-12-22' '2020-12-23' '2020-12-24' '2020-12-25' '2020-12-26'\n",
      " '2020-12-27' '2020-12-28' '2020-12-29' '2020-12-30' '2020-12-31'\n",
      " '2021-1-01' '2021-1-02' '2021-1-03' '2021-1-04' '2021-1-05' '2021-1-06'\n",
      " '2021-1-07' '2021-1-08' '2021-1-09' '2021-1-10' '2021-1-11' '2021-1-12'\n",
      " '2021-1-13' '2021-1-14' '2021-1-15' '2021-1-16' '2021-1-17' '2021-1-18'\n",
      " '2021-1-19' '2021-1-20' '2021-1-21' '2021-1-22' '2021-1-23' '2021-1-24'\n",
      " '2021-1-25' '2021-1-26' '2021-1-27' '2021-1-28' '2021-1-29' '2021-1-30'\n",
      " '2021-1-31' '2021-2-01' '2021-2-02' '2021-2-03' '2021-2-04' '2021-2-05'\n",
      " '2021-2-06' '2021-2-07' '2021-2-08' '2021-2-09' '2021-2-10' '2021-2-11'\n",
      " '2021-2-12' '2021-2-13' '2021-2-14' '2021-2-15' '2021-2-16' '2021-2-17'\n",
      " '2021-2-18' '2021-2-19' '2021-2-20' '2021-2-21' '2021-2-22' '2021-2-23'\n",
      " '2021-2-24' '2021-2-25' '2021-2-26' '2021-2-27' '2021-2-28' '2021-3-01'\n",
      " '2021-3-02' '2021-3-03' '2021-3-04' '2021-3-05' '2021-3-06' '2021-3-07'\n",
      " '2021-3-08' '2021-3-09' '2021-3-10' '2021-3-11' '2021-3-12' '2021-3-13'\n",
      " '2021-3-14' '2021-3-15' '2021-3-16' '2021-3-17' '2021-3-18' '2021-3-19'\n",
      " '2021-3-20' '2021-3-21' '2021-3-22' '2021-3-23' '2021-3-24' '2021-3-25'\n",
      " '2021-3-26' '2021-3-27' '2021-3-28' '2021-3-29' '2021-3-30' '2021-3-31'\n",
      " '2021-4-01' '2021-4-02' '2021-4-03' '2021-4-04' '2021-4-05' '2021-4-06'\n",
      " '2021-4-07' '2021-4-08' '2021-4-09' '2021-4-10' '2021-4-11' '2021-4-12'\n",
      " '2021-4-13' '2021-4-14' '2021-4-15' '2021-4-16' '2021-4-17' '2021-4-18'\n",
      " '2021-4-19' '2021-4-20' '2021-4-21' '2021-4-22' '2021-4-23' '2021-4-24'\n",
      " '2021-4-25' '2021-4-26' '2021-4-27' '2021-4-28' '2021-4-29' '2021-4-30'\n",
      " '2021-5-01' '2021-5-02' '2021-5-03' '2021-5-04' '2021-5-05' '2021-5-06'\n",
      " '2021-5-07' '2021-5-08' '2021-5-09' '2021-5-10' '2021-5-11' '2021-5-12'\n",
      " '2021-5-13' '2021-5-14' '2021-5-15' '2021-5-16' '2021-5-17' '2021-5-18'\n",
      " '2021-5-19' '2021-5-20' '2021-5-21' '2021-5-22' '2021-5-23' '2021-5-24'\n",
      " '2021-5-25' '2021-5-26' '2021-5-27' '2021-5-28' '2021-5-29' '2021-5-30'\n",
      " '2021-5-31' '2021-6-01' '2021-6-02' '2021-6-03' '2021-6-04' '2021-6-05'\n",
      " '2021-6-06' '2021-6-07' '2021-6-08' '2021-6-09' '2021-6-10' '2021-6-11'\n",
      " '2021-6-12' '2021-6-13' '2021-6-14' '2021-6-15' '2021-6-16' '2021-6-17'\n",
      " '2021-6-18' '2021-6-19' '2021-6-20' '2021-6-21' '2021-6-22' '2021-6-23'\n",
      " '2021-6-24' '2021-6-25' '2021-6-26' '2021-6-27' '2021-6-28' '2021-6-29'\n",
      " '2021-6-30' '2021-7-01' '2021-7-02' '2021-7-03' '2021-7-04' '2021-7-05'\n",
      " '2021-7-06' '2021-7-07' '2021-7-08' '2021-7-09' '2021-7-10' '2021-7-11'\n",
      " '2021-7-12' '2021-7-13' '2021-7-14' '2021-7-15' '2021-7-16' '2021-7-17'\n",
      " '2021-7-18' '2021-7-19' '2021-7-20' '2021-7-21' '2021-7-22' '2021-7-23'\n",
      " '2021-7-24' '2021-7-25' '2021-7-26' '2021-7-27' '2021-7-28' '2021-7-29'\n",
      " '2021-7-30' '2021-7-31' '2021-8-01' '2021-8-02' '2021-8-03' '2021-8-04'\n",
      " '2021-8-05' '2021-8-06' '2021-8-07' '2021-8-08' '2021-8-09' '2021-8-10'\n",
      " '2021-8-11' '2021-8-12' '2021-8-13' '2021-8-14' '2021-8-15' '2021-8-16'\n",
      " '2021-8-17' '2021-8-18' '2021-8-19' '2021-8-20' '2021-8-21' '2021-8-22'\n",
      " '2021-8-23' '2021-8-24' '2021-8-25' '2021-8-26' '2021-8-27' '2021-8-28'\n",
      " '2021-8-29' '2021-8-30' '2021-8-31' '2021-9-01' '2021-9-02' '2021-9-03'\n",
      " '2021-9-04' '2021-9-05' '2021-9-06' '2021-9-07' '2021-9-08' '2021-9-09'\n",
      " '2021-9-10' '2021-9-11' '2021-9-12' '2021-9-13' '2021-9-14' '2021-9-15'\n",
      " '2021-9-16' '2021-9-17' '2021-9-18' '2021-9-19' '2021-9-20' '2021-9-21'\n",
      " '2021-9-22' '2021-9-23' '2021-9-24' '2021-9-25' '2021-9-26' '2021-9-27'\n",
      " '2021-9-28' '2021-9-29' '2021-9-30' '2021-10-01' '2021-10-02'\n",
      " '2021-10-03' '2021-10-04' '2021-10-05' '2021-10-06' '2021-10-07'\n",
      " '2021-10-08' '2021-10-09' '2021-10-10' '2021-10-11' '2021-10-12'\n",
      " '2021-10-13' '2021-10-14' '2021-10-15' '2021-10-16' '2021-10-17'\n",
      " '2021-10-18' '2021-10-19' '2021-10-20' '2021-10-21' '2021-10-22'\n",
      " '2021-10-23' '2021-10-24' '2021-10-25' '2021-10-26' '2021-10-27'\n",
      " '2021-10-28' '2021-10-29' '2021-10-30' '2021-10-31' '2021-11-01'\n",
      " '2021-11-02' '2021-11-03' '2021-11-04' '2021-11-05' '2021-11-06'\n",
      " '2021-11-07' '2021-11-08' '2021-11-09' '2021-11-10' '2021-11-11'\n",
      " '2021-11-12' '2021-11-13' '2021-11-14' '2021-11-15' '2021-11-16'\n",
      " '2021-11-17' '2021-11-18' '2021-11-19' '2021-11-20' '2021-11-21'\n",
      " '2021-11-22' '2021-11-23' '2021-11-24' '2021-11-25' '2021-11-26'\n",
      " '2021-11-27' '2021-11-28' '2021-11-29' '2021-11-30' '2021-12-01'\n",
      " '2021-12-02' '2021-12-03' '2021-12-04' '2021-12-05' '2021-12-06'\n",
      " '2021-12-07' '2021-12-08' '2021-12-09' '2021-12-10' '2021-12-11'\n",
      " '2021-12-12' '2021-12-13' '2021-12-14' '2021-12-15' '2021-12-16'\n",
      " '2021-12-17' '2021-12-18' '2021-12-19' '2021-12-20' '2021-12-21'\n",
      " '2021-12-22' '2021-12-23' '2021-12-24' '2021-12-25' '2021-12-26'\n",
      " '2021-12-27' '2021-12-28' '2021-12-29' '2021-12-30' '2021-12-31'\n",
      " '2022-1-01' '2022-1-02' '2022-1-03' '2022-1-04' '2022-1-05' '2022-1-06'\n",
      " '2022-1-07' '2022-1-08' '2022-1-09' '2022-1-10' '2022-1-11' '2022-1-12'\n",
      " '2022-1-13' '2022-1-14' '2022-1-15' '2022-1-16' '2022-1-17' '2022-1-18'\n",
      " '2022-1-19' '2022-1-20' '2022-1-21' '2022-1-22' '2022-1-23' '2022-1-24'\n",
      " '2022-1-25' '2022-1-26' '2022-1-27' '2022-1-28' '2022-1-29' '2022-1-30'\n",
      " '2022-1-31' '2022-2-01' '2022-2-02' '2022-2-03' '2022-2-04' '2022-2-05'\n",
      " '2022-2-06' '2022-2-07' '2022-2-08' '2022-2-09' '2022-2-10' '2022-2-11'\n",
      " '2022-2-12' '2022-2-13' '2022-2-14' '2022-2-15' '2022-2-16' '2022-2-17'\n",
      " '2022-2-18' '2022-2-19' '2022-2-20' '2022-2-21' '2022-2-22' '2022-2-23'\n",
      " '2022-2-24' '2022-2-25' '2022-2-26' '2022-2-27' '2022-2-28' '2022-3-01'\n",
      " '2022-3-02' '2022-3-03' '2022-3-04' '2022-3-05' '2022-3-06' '2022-3-07'\n",
      " '2022-3-08' '2022-3-09' '2022-3-10' '2022-3-11' '2022-3-12' '2022-3-13'\n",
      " '2022-3-14' '2022-3-15' '2022-3-16' '2022-3-17' '2022-3-18' '2022-3-19'\n",
      " '2022-3-20' '2022-3-21' '2022-3-22' '2022-3-23' '2022-3-24' '2022-3-25'\n",
      " '2022-3-26' '2022-3-27' '2022-3-28' '2022-3-29' '2022-3-30' '2022-3-31'\n",
      " '2022-4-01' '2022-4-02' '2022-4-03' '2022-4-04' '2022-4-05' '2022-4-06'\n",
      " '2022-4-07' '2022-4-08' '2022-4-09' '2022-4-10' '2022-4-11' '2022-4-12'\n",
      " '2022-4-13' '2022-4-14' '2022-4-15' '2022-4-16' '2022-4-17' '2022-4-18'\n",
      " '2022-4-19' '2022-4-20' '2022-4-21' '2022-4-22' '2022-4-23' '2022-4-24'\n",
      " '2022-4-25' '2022-4-26' '2022-4-27' '2022-4-28' '2022-4-29' '2022-4-30'\n",
      " '2022-5-01' '2022-5-02' '2022-5-03' '2022-5-04' '2022-5-05' '2022-5-06'\n",
      " '2022-5-07' '2022-5-08' '2022-5-09' '2022-5-10' '2022-5-11' '2022-5-12'\n",
      " '2022-5-13' '2022-5-14' '2020-2-20' '2020-2-21' '2020-2-22' '2020-2-23'\n",
      " '2020-2-24' '2020-1-23' '2020-1-24' '2020-1-25' '2020-1-26' '2020-1-27'\n",
      " '2020-1-28' '2020-1-29' '2020-1-30' '2020-1-31' '2020-2-01' '2020-2-02'\n",
      " '2020-2-03' '2020-2-04' '2020-2-05' '2020-2-06' '2020-2-07' '2020-2-08'\n",
      " '2020-2-09' '2020-2-10' '2020-2-11' '2020-2-12' '2020-2-13' '2020-2-14'\n",
      " '2020-2-15' '2020-2-16' '2020-2-17' '2020-2-18' '2020-2-19']\n",
      "\n",
      "\n",
      "country\n",
      "['Afghanistan' 'Albania' 'Algeria' 'Andorra' 'Angola' 'Anguilla'\n",
      " 'Antigua And Barbuda' 'Argentina' 'Armenia' 'Aruba' 'Australia' 'Austria'\n",
      " 'Azerbaijan' 'Bahamas' 'Bahrain' 'Bangladesh' 'Barbados' 'Belgium'\n",
      " 'Belize' 'Benin' 'Bermuda' 'Bhutan' 'Bolivia' 'Botswana' 'Brazil'\n",
      " 'Brunei Darussalam' 'Bulgaria' 'Burkina Faso' 'Cabo Verde' 'Cambodia'\n",
      " 'Cameroon' 'Canada' 'Caribbean Netherlands' 'Cayman Islands'\n",
      " 'Central African Republic' 'Chad' 'Channel Islands' 'Chile' 'China'\n",
      " 'Colombia' 'Comoros' 'Congo' 'Costa Rica' 'Cote D Ivoire' 'Croatia'\n",
      " 'Cuba' 'Curacao' 'Cyprus' 'Czech Republic'\n",
      " 'Democratic Republic Of The Congo' 'Denmark' 'Djibouti' 'Dominica'\n",
      " 'Dominican Republic' 'Egypt' 'El Salvador' 'Equatorial Guinea' 'Eritrea'\n",
      " 'Estonia' 'Ethiopia' 'Faeroe Islands' 'Fiji' 'France' 'French Guiana'\n",
      " 'Gabon' 'Gambia' 'Georgia' 'Germany' 'Ghana' 'Gibraltar' 'Greece'\n",
      " 'Greenland' 'Grenada' 'Guadeloupe' 'Guatemala' 'Guinea Bissau' 'Guinea'\n",
      " 'Guyana' 'Haiti' 'Honduras' 'Hungary' 'India' 'Indonesia' 'Iran' 'Iraq'\n",
      " 'Ireland' 'Isle Of Man' 'Israel' 'Italy' 'Jamaica' 'Japan' 'Jordan'\n",
      " 'Kazakhstan' 'Kenya' 'Kiribati' 'Kuwait' 'Kyrgyzstan' 'Latvia' 'Lebanon'\n",
      " 'Lesotho' 'Liberia' 'Libya' 'Liechtenstein' 'Lithuania' 'Luxembourg'\n",
      " 'Macedonia' 'Madagascar' 'Malawi' 'Malaysia' 'Maldives' 'Mali' 'Malta'\n",
      " 'Martinique' 'Mauritania' 'Mauritius' 'Mayotte' 'Mexico' 'Moldova'\n",
      " 'Monaco' 'Mongolia' 'Montenegro' 'Montserrat' 'Morocco' 'Mozambique'\n",
      " 'Myanmar' 'Namibia' 'Nepal' 'Netherlands' 'New Caledonia' 'New Zealand'\n",
      " 'Nicaragua' 'Niger' 'Nigeria' 'Oman' 'Pakistan' 'Palau' 'Panama'\n",
      " 'Papua New Guinea' 'Paraguay' 'Philippines' 'Poland' 'Qatar' 'Reunion'\n",
      " 'Russia' 'Rwanda' 'Saint Kitts And Nevis' 'Saint Lucia' 'Saint Martin'\n",
      " 'Saint Vincent And The Grenadines' 'Samoa' 'San Marino'\n",
      " 'Sao Tome And Principe' 'Saudi Arabia' 'Senegal' 'Serbia' 'Seychelles'\n",
      " 'Singapore' 'Sint Maarten' 'Slovakia' 'Slovenia' 'Solomon Islands'\n",
      " 'Somalia' 'South Africa' 'South Sudan' 'Spain' 'Sri Lanka'\n",
      " 'State Of Palestine' 'Suriname' 'Swaziland' 'Sweden' 'Switzerland'\n",
      " 'Syria' 'Taiwan' 'Tajikistan' 'Thailand' 'Timor Leste' 'Togo' 'Tonga'\n",
      " 'Trinidad And Tobago' 'Turkey' 'Turks And Caicos Islands' 'Uganda' 'UK'\n",
      " 'United Arab Emirates' 'Uruguay' 'USA' 'Uzbekistan' 'Vanuatu' 'Venezuela'\n",
      " 'Viet Nam' 'Wallis And Futuna Islands' 'Yemen' 'Zambia' 'Zimbabwe']\n",
      "\n",
      "\n",
      "cumulative_total_cases\n",
      "[1.00000e+00 4.00000e+00 5.00000e+00 ... 2.48943e+05 2.49131e+05\n",
      " 2.49206e+05]\n",
      "\n",
      "\n",
      "daily_new_cases\n",
      "[0.000e+00 3.000e+00 1.000e+00 ... 8.006e+03 3.300e+03 6.181e+03]\n",
      "\n",
      "\n",
      "active_cases\n",
      "[1.000e+00 4.000e+00 5.000e+00 ... 4.725e+03 5.279e+03 4.433e+03]\n",
      "\n",
      "\n",
      "daily_new_deaths\n",
      "[0.000e+00 1.000e+00 2.000e+00 ... 1.107e+03 1.126e+03 6.490e+02]\n",
      "\n",
      "\n"
     ]
    }
   ],
   "source": [
    "for i in daily_data.columns :\n",
    "    print(i)\n",
    "    print(daily_data[i].unique())\n",
    "    print('\\n')  "
   ]
  },
  {
   "cell_type": "markdown",
   "id": "ddb0abfe",
   "metadata": {},
   "source": [
    "### Handling Datatypes of columns"
   ]
  },
  {
   "cell_type": "code",
   "execution_count": 27,
   "id": "5ed1ac73",
   "metadata": {},
   "outputs": [
    {
     "data": {
      "text/plain": [
       "date                       object\n",
       "country                    object\n",
       "cumulative_total_cases    float64\n",
       "daily_new_cases           float64\n",
       "active_cases              float64\n",
       "daily_new_deaths          float64\n",
       "dtype: object"
      ]
     },
     "execution_count": 27,
     "metadata": {},
     "output_type": "execute_result"
    }
   ],
   "source": [
    "daily_data.dtypes"
   ]
  },
  {
   "cell_type": "code",
   "execution_count": 28,
   "id": "ed48a5d0",
   "metadata": {},
   "outputs": [],
   "source": [
    "daily_data['cumulative_total_cases'] = daily_data['cumulative_total_cases'].apply(np.int64)"
   ]
  },
  {
   "cell_type": "code",
   "execution_count": 29,
   "id": "1c47634e",
   "metadata": {},
   "outputs": [],
   "source": [
    "daily_data['active_cases'] = daily_data['active_cases'].apply(np.int64)"
   ]
  },
  {
   "cell_type": "code",
   "execution_count": 34,
   "id": "506643de",
   "metadata": {},
   "outputs": [],
   "source": [
    "daily_data['daily_new_cases'] = daily_data['daily_new_cases'].apply(np.int64)"
   ]
  },
  {
   "cell_type": "code",
   "execution_count": 35,
   "id": "7379c427",
   "metadata": {},
   "outputs": [],
   "source": [
    "daily_data['daily_new_deaths'] = daily_data['daily_new_deaths'].apply(np.int64)"
   ]
  },
  {
   "cell_type": "code",
   "execution_count": 36,
   "id": "792a7c36",
   "metadata": {},
   "outputs": [
    {
     "data": {
      "text/plain": [
       "date                      object\n",
       "country                   object\n",
       "cumulative_total_cases     int64\n",
       "daily_new_cases            int64\n",
       "active_cases               int64\n",
       "daily_new_deaths           int64\n",
       "dtype: object"
      ]
     },
     "execution_count": 36,
     "metadata": {},
     "output_type": "execute_result"
    }
   ],
   "source": [
    "daily_data.dtypes"
   ]
  },
  {
   "cell_type": "code",
   "execution_count": 31,
   "id": "ba67ec76",
   "metadata": {
    "scrolled": true
   },
   "outputs": [
    {
     "data": {
      "text/html": [
       "<div>\n",
       "<style scoped>\n",
       "    .dataframe tbody tr th:only-of-type {\n",
       "        vertical-align: middle;\n",
       "    }\n",
       "\n",
       "    .dataframe tbody tr th {\n",
       "        vertical-align: top;\n",
       "    }\n",
       "\n",
       "    .dataframe thead th {\n",
       "        text-align: right;\n",
       "    }\n",
       "</style>\n",
       "<table border=\"1\" class=\"dataframe\">\n",
       "  <thead>\n",
       "    <tr style=\"text-align: right;\">\n",
       "      <th></th>\n",
       "      <th>date</th>\n",
       "      <th>country</th>\n",
       "      <th>cumulative_total_cases</th>\n",
       "      <th>daily_new_cases</th>\n",
       "      <th>active_cases</th>\n",
       "      <th>daily_new_deaths</th>\n",
       "    </tr>\n",
       "  </thead>\n",
       "  <tbody>\n",
       "    <tr>\n",
       "      <th>10</th>\n",
       "      <td>2020-2-25</td>\n",
       "      <td>Afghanistan</td>\n",
       "      <td>1</td>\n",
       "      <td>0.0</td>\n",
       "      <td>1</td>\n",
       "      <td>0.0</td>\n",
       "    </tr>\n",
       "    <tr>\n",
       "      <th>11</th>\n",
       "      <td>2020-2-26</td>\n",
       "      <td>Afghanistan</td>\n",
       "      <td>1</td>\n",
       "      <td>0.0</td>\n",
       "      <td>1</td>\n",
       "      <td>0.0</td>\n",
       "    </tr>\n",
       "    <tr>\n",
       "      <th>12</th>\n",
       "      <td>2020-2-27</td>\n",
       "      <td>Afghanistan</td>\n",
       "      <td>1</td>\n",
       "      <td>0.0</td>\n",
       "      <td>1</td>\n",
       "      <td>0.0</td>\n",
       "    </tr>\n",
       "    <tr>\n",
       "      <th>13</th>\n",
       "      <td>2020-2-28</td>\n",
       "      <td>Afghanistan</td>\n",
       "      <td>1</td>\n",
       "      <td>0.0</td>\n",
       "      <td>1</td>\n",
       "      <td>0.0</td>\n",
       "    </tr>\n",
       "    <tr>\n",
       "      <th>14</th>\n",
       "      <td>2020-2-29</td>\n",
       "      <td>Afghanistan</td>\n",
       "      <td>1</td>\n",
       "      <td>0.0</td>\n",
       "      <td>1</td>\n",
       "      <td>0.0</td>\n",
       "    </tr>\n",
       "  </tbody>\n",
       "</table>\n",
       "</div>"
      ],
      "text/plain": [
       "         date      country  cumulative_total_cases  daily_new_cases  \\\n",
       "10  2020-2-25  Afghanistan                       1              0.0   \n",
       "11  2020-2-26  Afghanistan                       1              0.0   \n",
       "12  2020-2-27  Afghanistan                       1              0.0   \n",
       "13  2020-2-28  Afghanistan                       1              0.0   \n",
       "14  2020-2-29  Afghanistan                       1              0.0   \n",
       "\n",
       "    active_cases  daily_new_deaths  \n",
       "10             1               0.0  \n",
       "11             1               0.0  \n",
       "12             1               0.0  \n",
       "13             1               0.0  \n",
       "14             1               0.0  "
      ]
     },
     "execution_count": 31,
     "metadata": {},
     "output_type": "execute_result"
    }
   ],
   "source": [
    "daily_data.head(5)"
   ]
  },
  {
   "cell_type": "markdown",
   "id": "ecd24fd3",
   "metadata": {},
   "source": [
    "### Saving the cleaned data into csv"
   ]
  },
  {
   "cell_type": "code",
   "execution_count": 32,
   "id": "9714b52e",
   "metadata": {},
   "outputs": [],
   "source": [
    "summary_data.to_csv(\"clean_summary_data.csv\",index=False)"
   ]
  },
  {
   "cell_type": "code",
   "execution_count": 37,
   "id": "191fb0ce",
   "metadata": {},
   "outputs": [],
   "source": [
    "daily_data.to_csv(\"clean_daily_data2.csv\",index=False)"
   ]
  }
 ],
 "metadata": {
  "kernelspec": {
   "display_name": "Python 3 (ipykernel)",
   "language": "python",
   "name": "python3"
  },
  "language_info": {
   "codemirror_mode": {
    "name": "ipython",
    "version": 3
   },
   "file_extension": ".py",
   "mimetype": "text/x-python",
   "name": "python",
   "nbconvert_exporter": "python",
   "pygments_lexer": "ipython3",
   "version": "3.9.13"
  }
 },
 "nbformat": 4,
 "nbformat_minor": 5
}
